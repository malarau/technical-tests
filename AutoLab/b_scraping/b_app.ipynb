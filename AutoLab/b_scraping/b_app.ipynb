{
 "cells": [
  {
   "cell_type": "markdown",
   "metadata": {},
   "source": [
    "## B) Realizar web scraping\n",
    "\n",
    "```\n",
    "Realizar web scraping con por lo menos 100 repuestos de la página a continuacion, explicar la metodología y el código utilizado.\n",
    "https://lamartine.cl/\n",
    "```"
   ]
  },
  {
   "cell_type": "code",
   "execution_count": 1,
   "metadata": {},
   "outputs": [],
   "source": [
    "import os, time, random\n",
    "\n",
    "from selenium import webdriver\n",
    "from selenium.webdriver.chrome.service import Service\n",
    "from selenium.webdriver.chrome.options import Options\n",
    "from selenium.webdriver.common.by import By\n",
    "from selenium.webdriver.support.ui import WebDriverWait\n",
    "from selenium.webdriver.support import expected_conditions as EC"
   ]
  },
  {
   "cell_type": "code",
   "execution_count": 2,
   "metadata": {},
   "outputs": [],
   "source": [
    "URL = \"https://lamartine.cl/productos/page/{page_num}/\"\n",
    "\n",
    "# Product grid\n",
    "CSS_SELECTOR_PRODUCT_GRID_ITEM = \"li[class*='product type-product'] > a\"\n",
    "\n",
    "# Product item\n",
    "    # Title\n",
    "CSS_SELECTOR_PRODUCT_TITLE = \"div[class='summary entry-summary'] > h1[class='product_title entry-title']\"\n",
    "    # SKU\n",
    "CSS_SELECTOR_PRODUCT_SKU = \"span > span[class='sku']\"\n",
    "    # Price: Original\n",
    "CSS_SELECTOR_PRODUCT_PRICE_ORIGINAL = \"del > span > bdi\"\n",
    "    # Price: Current\n",
    "CSS_SELECTOR_PRODUCT_PRICE_CURRENT = \"ins > span > bdi\"\n",
    "    # Stock\n",
    "CSS_SELECTOR_PRODUCT_STOCK = \"div > p[class*='stock']\" # Example: \"34 disponibles\" -> split.\n",
    "    # Categories\n",
    "CSS_SELECTOR_PRODUCT_CATEGORIES = \"div > span[class='posted_in'] > a\" # Multiple categories, use find_elementS\n",
    "    # Description\n",
    "CSS_SELECTOR_PRODUCT_DESCRIPTION = \"div[role='tabpanel'][id='tab-description'] > p\""
   ]
  },
  {
   "cell_type": "markdown",
   "metadata": {},
   "source": [
    "#### Get driver"
   ]
  },
  {
   "cell_type": "code",
   "execution_count": 3,
   "metadata": {},
   "outputs": [],
   "source": [
    "def initialize_driver(headless=False):\n",
    "    chrome_path = os.path.join(\"driver\", \"chromedriver-win64\", \"chromedriver.exe\")\n",
    "\n",
    "    # Options\n",
    "    chrome_options = Options()\n",
    "    chrome_options.add_argument(\"--disable-notifications\")\n",
    "    chrome_options.add_argument(\"--no-sandbox\")\n",
    "    chrome_options.add_argument(\"--disable-dev-shm-usage\")\n",
    "    # For images\n",
    "    #chrome_options.add_argument(\"--blink-settings=imagesEnabled=false\")\n",
    "\n",
    "    if headless:\n",
    "        chrome_options.add_argument(\"--headless\")\n",
    "        chrome_options.add_argument('--disable-gpu')\n",
    "\n",
    "    chrome_service = Service(chrome_path)\n",
    "    wd = webdriver.Chrome(\n",
    "        service=chrome_service,\n",
    "        options=chrome_options\n",
    "    )\n",
    "    \n",
    "    return wd"
   ]
  },
  {
   "cell_type": "markdown",
   "metadata": {},
   "source": [
    "#### Open/close tabs"
   ]
  },
  {
   "cell_type": "code",
   "execution_count": 4,
   "metadata": {},
   "outputs": [],
   "source": [
    "def open_new_tab(driver, url=None):\n",
    "    driver.execute_script(\"window.open('');\")\n",
    "    driver.switch_to.window(driver.window_handles[-1])\n",
    "    if url:\n",
    "        driver.get(url)\n",
    "\n",
    "def close_all_other_tabs(driver):\n",
    "    for tab_i in range(1, len(driver.window_handles)):\n",
    "        driver.switch_to.window(driver.window_handles[tab_i])\n",
    "        driver.close()\n",
    "    driver.switch_to.window(driver.window_handles[0])"
   ]
  },
  {
   "cell_type": "markdown",
   "metadata": {},
   "source": [
    "#### Find element/elements"
   ]
  },
  {
   "cell_type": "code",
   "execution_count": 5,
   "metadata": {},
   "outputs": [],
   "source": [
    "def find_element(element, by, value, timeout=10):\n",
    "    return WebDriverWait(element, timeout).until(\n",
    "        EC.presence_of_element_located((by, value))\n",
    "    )\n",
    "\n",
    "def find_elements(element, by, value, timeout=10):\n",
    "    return WebDriverWait(element, timeout).until(\n",
    "        EC.presence_of_all_elements_located((by, value))\n",
    "    )"
   ]
  },
  {
   "cell_type": "markdown",
   "metadata": {},
   "source": [
    "#### Get product data (or empty string if it is not shown)"
   ]
  },
  {
   "cell_type": "code",
   "execution_count": 6,
   "metadata": {},
   "outputs": [],
   "source": [
    "def get_product_data(driver):\n",
    "    product_dict = {}\n",
    "\n",
    "    try:\n",
    "        product_dict['title'] = find_element(driver, By.CSS_SELECTOR, CSS_SELECTOR_PRODUCT_TITLE).text\n",
    "    except:\n",
    "        product_dict['title'] = \"\"\n",
    "\n",
    "    try:\n",
    "        product_dict['SKU'] = find_element(driver, By.CSS_SELECTOR, CSS_SELECTOR_PRODUCT_SKU).text\n",
    "    except:\n",
    "        product_dict['SKU'] = \"\"\n",
    "\n",
    "    try:\n",
    "        product_dict['price_original'] = find_element(driver, By.CSS_SELECTOR, CSS_SELECTOR_PRODUCT_PRICE_ORIGINAL).text\n",
    "    except:\n",
    "        product_dict['price_original'] = \"\"\n",
    "\n",
    "    try:\n",
    "        product_dict['price_current'] = find_element(driver, By.CSS_SELECTOR, CSS_SELECTOR_PRODUCT_PRICE_CURRENT).text\n",
    "    except:\n",
    "        product_dict['price_current'] = \"\"\n",
    "\n",
    "    try:\n",
    "        product_dict['stock'] = int(find_element(driver, By.CSS_SELECTOR, CSS_SELECTOR_PRODUCT_STOCK).text.split(\" \")[0])\n",
    "    except:\n",
    "        product_dict['stock'] = 0\n",
    "\n",
    "    try:\n",
    "        product_dict['categories'] = [elem.text for elem in find_elements(driver, By.CSS_SELECTOR, CSS_SELECTOR_PRODUCT_CATEGORIES)]\n",
    "    except:\n",
    "        product_dict['categories'] = []\n",
    "\n",
    "    try:\n",
    "        product_dict['description'] = find_element(driver, By.CSS_SELECTOR, CSS_SELECTOR_PRODUCT_DESCRIPTION).text\n",
    "    except:\n",
    "        product_dict['description'] = \"\"\n",
    "\n",
    "    return product_dict\n"
   ]
  },
  {
   "cell_type": "markdown",
   "metadata": {},
   "source": [
    "### Run run runnnn"
   ]
  },
  {
   "cell_type": "code",
   "execution_count": 7,
   "metadata": {},
   "outputs": [],
   "source": [
    "# How many pages to visit?\n",
    "pages_to_scrape = 4\n",
    "\n",
    "# How many product to scrape?\n",
    "products_to_scrape = 15\n",
    "\n",
    "products = []"
   ]
  },
  {
   "cell_type": "code",
   "execution_count": 8,
   "metadata": {},
   "outputs": [
    {
     "name": "stdout",
     "output_type": "stream",
     "text": [
      "Page    1 (product   1/15) - URL: https://lamartine.cl/producto/aceite-atf6-acdelco-dexron-vi-acdelco/.\n",
      "Page    1 (product   2/15) - URL: https://lamartine.cl/producto/aceite-de-caja-de-transferencia-946ml-auto-track-ii-acdelco/.\n",
      "Page    1 (product   3/15) - URL: https://lamartine.cl/producto/aceite-0w20-sintetico-pennzoil-dexos-1-mopar/.\n",
      "Page    1 (product   4/15) - URL: https://lamartine.cl/producto/aceite-0w20-sintetico-williams-dexos-1-946ml-usa/.\n",
      "Page    1 (product   5/15) - URL: https://lamartine.cl/producto/aceite-0w40-sintetico-motores-srt-pennzoil/.\n",
      "Page    1 (product   6/15) - URL: https://lamartine.cl/producto/aceite-10w40-1-ltra-semi-sintetico-acdelco/.\n",
      "Page    1 (product   7/15) - URL: https://lamartine.cl/producto/aceite-10w40-4litros-semi-sintetico-acdelco/.\n",
      "Page    1 (product   8/15) - URL: https://lamartine.cl/producto/aceite-10w40-4litros-sintetico-mando-korea/.\n",
      "Page    1 (product   9/15) - URL: https://lamartine.cl/producto/aceite-15w40-diesel-mopar-946ml/.\n",
      "Page    1 (product  10/15) - URL: https://lamartine.cl/producto/aceite-20w50-4litros-mineral-acdelco/.\n",
      "Page    1 (product  11/15) - URL: https://lamartine.cl/producto/aceite-5w20-1lt-hyundai-xteer-sintetico/.\n",
      "Page    1 (product  12/15) - URL: https://lamartine.cl/producto/aceite-5w20-full-sintetico-946-ml-motorcraft/.\n",
      "Page    2 (product  13/15) - URL: https://lamartine.cl/producto/aceite-5w20-946ml-para-bencineros-mopar/.\n",
      "Page    2 (product  14/15) - URL: https://lamartine.cl/producto/aceite-5w20-sintetico-946ml-para-bencineros-motorcraft/.\n",
      "Page    2 (product  15/15) - URL: https://lamartine.cl/producto/aceite-5w30-acdelco-bencineros-sintetico-dexos-1-acdelco/.\n"
     ]
    }
   ],
   "source": [
    "driver = initialize_driver()\n",
    "\n",
    "for page_num in range(1, pages_to_scrape+1):\n",
    "    if len(products) >= products_to_scrape:\n",
    "        break\n",
    "    \n",
    "    # Get paginated products grid\n",
    "    driver.get(URL.format(page_num=page_num))\n",
    "\n",
    "    # Scrape all items present in the page\n",
    "    for e in find_elements(driver, By.CSS_SELECTOR, CSS_SELECTOR_PRODUCT_GRID_ITEM):\n",
    "        product_url = e.get_attribute(\"href\")\n",
    "        print(f\"Page {page_num:3} (product {(len(products)+1):4}/{products_to_scrape}) - URL: {product_url}.\")\n",
    "\n",
    "        # Open product on a new tab\n",
    "        open_new_tab(driver, product_url)\n",
    "\n",
    "        # Extract data\n",
    "        data_dict = get_product_data(driver)\n",
    "\n",
    "        # Append to current scraped products\n",
    "        products.append(data_dict)\n",
    "\n",
    "        # Wait some time TO AVOID POSSIBLE BANS¿¿¿¿?????\n",
    "        time.sleep(random.randint(2,3))\n",
    "\n",
    "        # And close tab to repeat        \n",
    "        close_all_other_tabs(driver)\n",
    "\n",
    "        if len(products) >= products_to_scrape:\n",
    "            break\n"
   ]
  },
  {
   "cell_type": "code",
   "execution_count": 9,
   "metadata": {},
   "outputs": [
    {
     "data": {
      "text/plain": [
       "[{'title': 'ACEITE ATF+6 DEXRON VI ACDELCO',\n",
       "  'SKU': 'AC010095',\n",
       "  'price_original': '$16,000',\n",
       "  'price_current': '$12,000',\n",
       "  'stock': 55,\n",
       "  'categories': ['Aceites', 'Lubricantes', 'Transmisión'],\n",
       "  'description': 'AC010095  // Acdelco 19420007  //  10-9300  //'},\n",
       " {'title': 'ACEITE CAJA TRANSFERENCIA AUTO-TRACK II (1 LITRO) ACDELCO',\n",
       "  'SKU': 'AC010200',\n",
       "  'price_original': '$16,000',\n",
       "  'price_current': '$12,000',\n",
       "  'stock': 3,\n",
       "  'categories': ['Aceites', 'Aditivos', 'Lubricantes', 'Transmisión'],\n",
       "  'description': 'AC010200  //  88900402  //  10-4017'},\n",
       " {'title': 'ACEITE 0W20 SINTETICO PENNZOIL DEXOS 1 946ml',\n",
       "  'SKU': 'AC010050',\n",
       "  'price_original': '$22,000',\n",
       "  'price_current': '$16,500',\n",
       "  'stock': 0,\n",
       "  'categories': ['Aceites', 'Lubricantes'],\n",
       "  'description': '68152004PB //   AC010050  //  550036541  //  68152004PB'},\n",
       " {'title': 'ACEITE 0W20 SINTÉTICO WILLIAMS DEXOS 1 946ml USA',\n",
       "  'SKU': 'AC010051',\n",
       "  'price_original': '$13,000',\n",
       "  'price_current': '$9,750',\n",
       "  'stock': 14,\n",
       "  'categories': ['Aceites', 'Lubricantes'],\n",
       "  'description': '68152004PB //   AC010051  //  550036541'},\n",
       " {'title': 'ACEITE 0W40 SINTETICO MOTORES SRT 946 ml PENNZOIL',\n",
       "  'SKU': 'AC010175',\n",
       "  'price_original': '$19,200',\n",
       "  'price_current': '$14,400',\n",
       "  'stock': 37,\n",
       "  'categories': ['Aceites', 'Lubricantes', 'Motor'],\n",
       "  'description': 'AC010175  //  550040856 PENNZOIL'},\n",
       " {'title': 'ACEITE 10W40 1 LTRO. SEMI SINTETICO Acdelco',\n",
       "  'SKU': 'AC010035',\n",
       "  'price_original': '$8,600',\n",
       "  'price_current': '$6,450',\n",
       "  'stock': 1,\n",
       "  'categories': ['Aceites'],\n",
       "  'description': 'AC010035'},\n",
       " {'title': 'ACEITE 10W40 4LITROS SINTETICO General Motors',\n",
       "  'SKU': 'AC010056',\n",
       "  'price_original': '$39,800',\n",
       "  'price_current': '$29,850',\n",
       "  'stock': 0,\n",
       "  'categories': ['Lubricantes', 'Motor'],\n",
       "  'description': 'AC010056'},\n",
       " {'title': 'ACEITE 10W40 4LITROS SINTETICO MANDO KOREA',\n",
       "  'SKU': 'AC010055',\n",
       "  'price_original': '$38,000',\n",
       "  'price_current': '$28,500',\n",
       "  'stock': 10,\n",
       "  'categories': ['Lubricantes', 'Motor'],\n",
       "  'description': 'AC010055'},\n",
       " {'title': 'ACEITE 15W40 DIESEL DPF 946ml MOPAR',\n",
       "  'SKU': 'AC010145',\n",
       "  'price_original': '$19,000',\n",
       "  'price_current': '$14,250',\n",
       "  'stock': 30,\n",
       "  'categories': ['Aceites', 'Aditivos', 'Motor'],\n",
       "  'description': 'AC010145 // 68218940AB  //  MS10902'},\n",
       " {'title': 'ACEITE 20W50 4LITROS MINERAL Acdelco',\n",
       "  'SKU': 'AC010030',\n",
       "  'price_original': '$23,800',\n",
       "  'price_current': '$17,850',\n",
       "  'stock': 0,\n",
       "  'categories': ['Lubricantes', 'Motor'],\n",
       "  'description': 'Acdelco 12378294'},\n",
       " {'title': 'ACEITE 5W20 (1lt) HYUNDAI XTEER SINTÉTICO',\n",
       "  'SKU': 'AC010141',\n",
       "  'price_original': '$9,500',\n",
       "  'price_current': '$7,125',\n",
       "  'stock': 4,\n",
       "  'categories': ['Aceites', 'Aditivos', 'Lubricantes', 'Motor'],\n",
       "  'description': 'AC010141  // 5W20  API SN ILSAC GF-5'},\n",
       " {'title': 'ACEITE 5W20 FULL SINTETICO 946 ml MOTORCRAFT',\n",
       "  'SKU': 'AC010255',\n",
       "  'price_original': '$16,300',\n",
       "  'price_current': '$12,225',\n",
       "  'stock': 34,\n",
       "  'categories': ['Aceites', 'Lubricantes'],\n",
       "  'description': 'AC010255  //  XO-5W20-Q1FS MOTORCRAFT'},\n",
       " {'title': 'ACEITE 5W20 PARA BENCINEROS MOPAR',\n",
       "  'SKU': 'AC010140',\n",
       "  'price_original': '$17,800',\n",
       "  'price_current': '$13,350',\n",
       "  'stock': 34,\n",
       "  'categories': ['Aceites', 'Aditivos', 'Lubricantes', 'Motor'],\n",
       "  'description': 'AC010140  //  68218890AB'},\n",
       " {'title': 'ACEITE 5W20 SEMISINTETICO (946ml) PARA BENCINEROS Motorcraft',\n",
       "  'SKU': 'AC010170',\n",
       "  'price_original': '$14,300',\n",
       "  'price_current': '$10,725',\n",
       "  'stock': 16,\n",
       "  'categories': ['Aceites', 'Lubricantes', 'Motor'],\n",
       "  'description': 'Motocraft:   XO-5W20-QSP'},\n",
       " {'title': 'ACEITE 5W30 FULL SINTETICO DEXOS 1 ACDELCO 946ml',\n",
       "  'SKU': 'AC010080',\n",
       "  'price_original': '$18,900',\n",
       "  'price_current': '$14,175',\n",
       "  'stock': 34,\n",
       "  'categories': ['Aceites'],\n",
       "  'description': 'AC010080 //  10-9246  //  88865991'}]"
      ]
     },
     "execution_count": 9,
     "metadata": {},
     "output_type": "execute_result"
    }
   ],
   "source": [
    "products"
   ]
  },
  {
   "cell_type": "code",
   "execution_count": 10,
   "metadata": {},
   "outputs": [],
   "source": [
    "try:\n",
    "    driver.close()\n",
    "except:\n",
    "    pass"
   ]
  }
 ],
 "metadata": {
  "kernelspec": {
   "display_name": "Python 3",
   "language": "python",
   "name": "python3"
  },
  "language_info": {
   "codemirror_mode": {
    "name": "ipython",
    "version": 3
   },
   "file_extension": ".py",
   "mimetype": "text/x-python",
   "name": "python",
   "nbconvert_exporter": "python",
   "pygments_lexer": "ipython3",
   "version": "3.11.1"
  }
 },
 "nbformat": 4,
 "nbformat_minor": 2
}
